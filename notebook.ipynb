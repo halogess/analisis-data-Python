{
  "cells": [
    {
      "cell_type": "markdown",
      "metadata": {
        "id": "H9wADwK78DCz"
      },
      "source": [
        "# Proyek Analisis Data: Bike Sharing Dataset\n",
        "- **Nama:** Jessica Wahyudi\n",
        "- **Email:** jsc.wahyudi@gmail.com\n",
        "- **ID Dicoding:** jsc_wahyudi"
      ]
    },
    {
      "cell_type": "markdown",
      "metadata": {
        "id": "eE0raob58DC0"
      },
      "source": [
        "## Menentukan Pertanyaan Bisnis"
      ]
    },
    {
      "cell_type": "markdown",
      "metadata": {
        "id": "GmQeQ5YF8DC0"
      },
      "source": [
        "- Bagaimana pengaruh cuaca terhadap jumlah penyewaan sepeda?\n",
        "- Kapan jam sibuk penyewaan sepeda pada workday dan weekend?"
      ]
    },
    {
      "cell_type": "markdown",
      "metadata": {
        "id": "H-z4QGlO8DC1"
      },
      "source": [
        "## Import Semua Packages/Library yang Digunakan"
      ]
    },
    {
      "cell_type": "code",
      "execution_count": 4,
      "metadata": {
        "id": "FVYwaObI8DC1"
      },
      "outputs": [],
      "source": [
        "# Mengimpor pandas untuk manipulasi dan analisis data dalam bentuk DataFrame\n",
        "import pandas as pd\n",
        "\n",
        "# Mengimpor numpy untuk melakukan operasi matematika dan manipulasi array\n",
        "import numpy as np\n",
        "\n",
        "# Mengimpor matplotlib.pyplot untuk membuat visualisasi data dalam bentuk grafik\n",
        "import matplotlib.pyplot as plt\n",
        "\n",
        "# Mengimpor seaborn untuk membuat visualisasi data yang lebih menarik dan informatif\n",
        "import seaborn as sns"
      ]
    },
    {
      "cell_type": "markdown",
      "metadata": {
        "id": "h_Sh51Xy8DC1"
      },
      "source": [
        "## Data Wrangling"
      ]
    },
    {
      "cell_type": "markdown",
      "metadata": {
        "id": "sXU2GBYu8DC1"
      },
      "source": [
        "### Gathering Data"
      ]
    },
    {
      "cell_type": "code",
      "execution_count": 5,
      "metadata": {
        "id": "zjCBk1BI8DC1",
        "colab": {
          "base_uri": "https://localhost:8080/"
        },
        "outputId": "d89c8c69-6177-4a14-e96b-abda1d9f32a5"
      },
      "outputs": [
        {
          "output_type": "stream",
          "name": "stdout",
          "text": [
            "<class 'pandas.core.frame.DataFrame'>\n",
            "RangeIndex: 17379 entries, 0 to 17378\n",
            "Data columns (total 17 columns):\n",
            " #   Column      Non-Null Count  Dtype  \n",
            "---  ------      --------------  -----  \n",
            " 0   instant     17379 non-null  int64  \n",
            " 1   dteday      17379 non-null  object \n",
            " 2   season      17379 non-null  int64  \n",
            " 3   yr          17379 non-null  int64  \n",
            " 4   mnth        17379 non-null  int64  \n",
            " 5   hr          17379 non-null  int64  \n",
            " 6   holiday     17379 non-null  int64  \n",
            " 7   weekday     17379 non-null  int64  \n",
            " 8   workingday  17379 non-null  int64  \n",
            " 9   weathersit  17379 non-null  int64  \n",
            " 10  temp        17379 non-null  float64\n",
            " 11  atemp       17379 non-null  float64\n",
            " 12  hum         17379 non-null  float64\n",
            " 13  windspeed   17379 non-null  float64\n",
            " 14  casual      17379 non-null  int64  \n",
            " 15  registered  17379 non-null  int64  \n",
            " 16  cnt         17379 non-null  int64  \n",
            "dtypes: float64(4), int64(12), object(1)\n",
            "memory usage: 2.3+ MB\n",
            "None\n",
            "          instant        season            yr          mnth            hr  \\\n",
            "count  17379.0000  17379.000000  17379.000000  17379.000000  17379.000000   \n",
            "mean    8690.0000      2.501640      0.502561      6.537775     11.546752   \n",
            "std     5017.0295      1.106918      0.500008      3.438776      6.914405   \n",
            "min        1.0000      1.000000      0.000000      1.000000      0.000000   \n",
            "25%     4345.5000      2.000000      0.000000      4.000000      6.000000   \n",
            "50%     8690.0000      3.000000      1.000000      7.000000     12.000000   \n",
            "75%    13034.5000      3.000000      1.000000     10.000000     18.000000   \n",
            "max    17379.0000      4.000000      1.000000     12.000000     23.000000   \n",
            "\n",
            "            holiday       weekday    workingday    weathersit          temp  \\\n",
            "count  17379.000000  17379.000000  17379.000000  17379.000000  17379.000000   \n",
            "mean       0.028770      3.003683      0.682721      1.425283      0.496987   \n",
            "std        0.167165      2.005771      0.465431      0.639357      0.192556   \n",
            "min        0.000000      0.000000      0.000000      1.000000      0.020000   \n",
            "25%        0.000000      1.000000      0.000000      1.000000      0.340000   \n",
            "50%        0.000000      3.000000      1.000000      1.000000      0.500000   \n",
            "75%        0.000000      5.000000      1.000000      2.000000      0.660000   \n",
            "max        1.000000      6.000000      1.000000      4.000000      1.000000   \n",
            "\n",
            "              atemp           hum     windspeed        casual    registered  \\\n",
            "count  17379.000000  17379.000000  17379.000000  17379.000000  17379.000000   \n",
            "mean       0.475775      0.627229      0.190098     35.676218    153.786869   \n",
            "std        0.171850      0.192930      0.122340     49.305030    151.357286   \n",
            "min        0.000000      0.000000      0.000000      0.000000      0.000000   \n",
            "25%        0.333300      0.480000      0.104500      4.000000     34.000000   \n",
            "50%        0.484800      0.630000      0.194000     17.000000    115.000000   \n",
            "75%        0.621200      0.780000      0.253700     48.000000    220.000000   \n",
            "max        1.000000      1.000000      0.850700    367.000000    886.000000   \n",
            "\n",
            "                cnt  \n",
            "count  17379.000000  \n",
            "mean     189.463088  \n",
            "std      181.387599  \n",
            "min        1.000000  \n",
            "25%       40.000000  \n",
            "50%      142.000000  \n",
            "75%      281.000000  \n",
            "max      977.000000  \n",
            "Index(['instant', 'dteday', 'season', 'yr', 'mnth', 'hr', 'holiday', 'weekday',\n",
            "       'workingday', 'weathersit', 'temp', 'atemp', 'hum', 'windspeed',\n",
            "       'casual', 'registered', 'cnt'],\n",
            "      dtype='object')\n"
          ]
        }
      ],
      "source": [
        "# Memuat dataset ke dalam dataframe\n",
        "df = pd.read_csv('data/hour.csv')\n",
        "\n",
        "# Informasi umum tentang dataset\n",
        "print(df.info())\n",
        "\n",
        "# Melihat ringkasan statistik dasar untuk kolom numerik\n",
        "print(df.describe())\n",
        "\n",
        "# Melihat daftar kolom yang ada dalam dataframe\n",
        "print(df.columns)"
      ]
    },
    {
      "cell_type": "markdown",
      "source": [
        "**Insight:**\n",
        "- Dataset berhasil dimuat ke dalam DataFrame\n",
        "- Kolom-kolom yang ada mencakup variabel 'instant', 'dteday', 'season', 'yr', 'mnth', 'hr', 'holiday', 'weekday','workingday', 'weathersit', 'temp', 'atemp', 'hum', 'windspeed','casual', 'registered', 'cnt'"
      ],
      "metadata": {
        "id": "MMi6xGaDkbCi"
      }
    },
    {
      "cell_type": "markdown",
      "metadata": {
        "id": "FHSiqaZp8DC1"
      },
      "source": [
        "### Assessing Data"
      ]
    },
    {
      "cell_type": "code",
      "source": [
        "# cek data null\n",
        "df.isnull().sum()"
      ],
      "metadata": {
        "id": "ax-3tEjc9Cj1",
        "colab": {
          "base_uri": "https://localhost:8080/",
          "height": 617
        },
        "collapsed": true,
        "outputId": "4a807b85-cbfb-45df-ef69-c4a9febb0602"
      },
      "execution_count": 6,
      "outputs": [
        {
          "output_type": "execute_result",
          "data": {
            "text/plain": [
              "instant       0\n",
              "dteday        0\n",
              "season        0\n",
              "yr            0\n",
              "mnth          0\n",
              "hr            0\n",
              "holiday       0\n",
              "weekday       0\n",
              "workingday    0\n",
              "weathersit    0\n",
              "temp          0\n",
              "atemp         0\n",
              "hum           0\n",
              "windspeed     0\n",
              "casual        0\n",
              "registered    0\n",
              "cnt           0\n",
              "dtype: int64"
            ],
            "text/html": [
              "<div>\n",
              "<style scoped>\n",
              "    .dataframe tbody tr th:only-of-type {\n",
              "        vertical-align: middle;\n",
              "    }\n",
              "\n",
              "    .dataframe tbody tr th {\n",
              "        vertical-align: top;\n",
              "    }\n",
              "\n",
              "    .dataframe thead th {\n",
              "        text-align: right;\n",
              "    }\n",
              "</style>\n",
              "<table border=\"1\" class=\"dataframe\">\n",
              "  <thead>\n",
              "    <tr style=\"text-align: right;\">\n",
              "      <th></th>\n",
              "      <th>0</th>\n",
              "    </tr>\n",
              "  </thead>\n",
              "  <tbody>\n",
              "    <tr>\n",
              "      <th>instant</th>\n",
              "      <td>0</td>\n",
              "    </tr>\n",
              "    <tr>\n",
              "      <th>dteday</th>\n",
              "      <td>0</td>\n",
              "    </tr>\n",
              "    <tr>\n",
              "      <th>season</th>\n",
              "      <td>0</td>\n",
              "    </tr>\n",
              "    <tr>\n",
              "      <th>yr</th>\n",
              "      <td>0</td>\n",
              "    </tr>\n",
              "    <tr>\n",
              "      <th>mnth</th>\n",
              "      <td>0</td>\n",
              "    </tr>\n",
              "    <tr>\n",
              "      <th>hr</th>\n",
              "      <td>0</td>\n",
              "    </tr>\n",
              "    <tr>\n",
              "      <th>holiday</th>\n",
              "      <td>0</td>\n",
              "    </tr>\n",
              "    <tr>\n",
              "      <th>weekday</th>\n",
              "      <td>0</td>\n",
              "    </tr>\n",
              "    <tr>\n",
              "      <th>workingday</th>\n",
              "      <td>0</td>\n",
              "    </tr>\n",
              "    <tr>\n",
              "      <th>weathersit</th>\n",
              "      <td>0</td>\n",
              "    </tr>\n",
              "    <tr>\n",
              "      <th>temp</th>\n",
              "      <td>0</td>\n",
              "    </tr>\n",
              "    <tr>\n",
              "      <th>atemp</th>\n",
              "      <td>0</td>\n",
              "    </tr>\n",
              "    <tr>\n",
              "      <th>hum</th>\n",
              "      <td>0</td>\n",
              "    </tr>\n",
              "    <tr>\n",
              "      <th>windspeed</th>\n",
              "      <td>0</td>\n",
              "    </tr>\n",
              "    <tr>\n",
              "      <th>casual</th>\n",
              "      <td>0</td>\n",
              "    </tr>\n",
              "    <tr>\n",
              "      <th>registered</th>\n",
              "      <td>0</td>\n",
              "    </tr>\n",
              "    <tr>\n",
              "      <th>cnt</th>\n",
              "      <td>0</td>\n",
              "    </tr>\n",
              "  </tbody>\n",
              "</table>\n",
              "</div><br><label><b>dtype:</b> int64</label>"
            ]
          },
          "metadata": {},
          "execution_count": 6
        }
      ]
    },
    {
      "cell_type": "code",
      "source": [
        "# cek data kembar\n",
        "df.duplicated().sum()"
      ],
      "metadata": {
        "id": "yo579cyziRp1",
        "colab": {
          "base_uri": "https://localhost:8080/"
        },
        "outputId": "5e4f0cd0-a04b-48e9-cc5b-4a9f099de275"
      },
      "execution_count": 7,
      "outputs": [
        {
          "output_type": "execute_result",
          "data": {
            "text/plain": [
              "0"
            ]
          },
          "metadata": {},
          "execution_count": 7
        }
      ]
    },
    {
      "cell_type": "code",
      "source": [
        "data = df['cnt']\n",
        "# Menentukan kolom yang akan dianalisis untuk outliers, untuk kolom 'cnt'\n",
        "# Menghitung Q1 (25th percentile) dan Q3 (75th percentile)\n",
        "q25, q75 = np.percentile(data, 25), np.percentile(data, 75)\n",
        "\n",
        "# Menghitung IQR (Interquartile Range)\n",
        "iqr = q75 - q25\n",
        "\n",
        "# Menghitung cut-off untuk mendeteksi outliers\n",
        "cut_off = iqr * 1.5\n",
        "minimum, maximum = q25 - cut_off, q75 + cut_off\n",
        "\n",
        "# Menemukan outliers\n",
        "outliers = df[(data < minimum) | (data > maximum)]\n",
        "outliers_index = outliers.index\n",
        "print(len(outliers))"
      ],
      "metadata": {
        "id": "uEZuI6CBinkn",
        "colab": {
          "base_uri": "https://localhost:8080/"
        },
        "outputId": "4bd5e1cf-d104-49c8-c01e-2c431af1198b"
      },
      "execution_count": 8,
      "outputs": [
        {
          "output_type": "stream",
          "name": "stdout",
          "text": [
            "505\n"
          ]
        }
      ]
    },
    {
      "cell_type": "markdown",
      "source": [
        "**Insight:**\n",
        "- Tidak ada data yang null atau duplikat, yang berarti dataset dalam kondisi baik.\n",
        "- Terdeteksi 505 outliers dalam kolom jumlah rental (cnt), yang mungkin mengindikasikan adanya faktor-faktor ekstrem (misalnya cuaca buruk atau acara khusus) yang mempengaruhi jumlah rental sepeda."
      ],
      "metadata": {
        "id": "7dtxhAPrkhPL"
      }
    },
    {
      "cell_type": "markdown",
      "metadata": {
        "id": "EhN5R4hr8DC1"
      },
      "source": [
        "### Cleaning Data"
      ]
    },
    {
      "cell_type": "code",
      "source": [
        "# Menghapus outliers\n",
        "df = df.drop(outliers_index)\n",
        "# Menampilkan outliers\n",
        "print(df)"
      ],
      "metadata": {
        "id": "jVnYpprE9Evz",
        "collapsed": true,
        "colab": {
          "base_uri": "https://localhost:8080/"
        },
        "outputId": "f44b9afb-fdf8-4f6f-a788-1a6109787d9f"
      },
      "execution_count": 9,
      "outputs": [
        {
          "output_type": "stream",
          "name": "stdout",
          "text": [
            "       instant      dteday  season  yr  mnth  hr  holiday  weekday  \\\n",
            "0            1  2011-01-01       1   0     1   0        0        6   \n",
            "1            2  2011-01-01       1   0     1   1        0        6   \n",
            "2            3  2011-01-01       1   0     1   2        0        6   \n",
            "3            4  2011-01-01       1   0     1   3        0        6   \n",
            "4            5  2011-01-01       1   0     1   4        0        6   \n",
            "...        ...         ...     ...  ..   ...  ..      ...      ...   \n",
            "17374    17375  2012-12-31       1   1    12  19        0        1   \n",
            "17375    17376  2012-12-31       1   1    12  20        0        1   \n",
            "17376    17377  2012-12-31       1   1    12  21        0        1   \n",
            "17377    17378  2012-12-31       1   1    12  22        0        1   \n",
            "17378    17379  2012-12-31       1   1    12  23        0        1   \n",
            "\n",
            "       workingday  weathersit  temp   atemp   hum  windspeed  casual  \\\n",
            "0               0           1  0.24  0.2879  0.81     0.0000       3   \n",
            "1               0           1  0.22  0.2727  0.80     0.0000       8   \n",
            "2               0           1  0.22  0.2727  0.80     0.0000       5   \n",
            "3               0           1  0.24  0.2879  0.75     0.0000       3   \n",
            "4               0           1  0.24  0.2879  0.75     0.0000       0   \n",
            "...           ...         ...   ...     ...   ...        ...     ...   \n",
            "17374           1           2  0.26  0.2576  0.60     0.1642      11   \n",
            "17375           1           2  0.26  0.2576  0.60     0.1642       8   \n",
            "17376           1           1  0.26  0.2576  0.60     0.1642       7   \n",
            "17377           1           1  0.26  0.2727  0.56     0.1343      13   \n",
            "17378           1           1  0.26  0.2727  0.65     0.1343      12   \n",
            "\n",
            "       registered  cnt  \n",
            "0              13   16  \n",
            "1              32   40  \n",
            "2              27   32  \n",
            "3              10   13  \n",
            "4               1    1  \n",
            "...           ...  ...  \n",
            "17374         108  119  \n",
            "17375          81   89  \n",
            "17376          83   90  \n",
            "17377          48   61  \n",
            "17378          37   49  \n",
            "\n",
            "[16874 rows x 17 columns]\n"
          ]
        }
      ]
    },
    {
      "cell_type": "markdown",
      "source": [
        "**Insight:**\n",
        "- Dataset telah dibersihkan dari outliers, menyisakan 16.874 baris data bersih yang akan digunakan untuk analisis lebih lanjut.\n",
        "- Pembersihan ini penting agar analisis berikutnya tidak terdistorsi oleh data ekstrem yang mungkin tidak representatif."
      ],
      "metadata": {
        "id": "Q_5ejIqckiSP"
      }
    },
    {
      "cell_type": "markdown",
      "metadata": {
        "id": "gp-Y6wU38DC1"
      },
      "source": [
        "## Exploratory Data Analysis (EDA)"
      ]
    },
    {
      "cell_type": "markdown",
      "metadata": {
        "id": "MW7WF2kr8DC1"
      },
      "source": [
        "### Explore ..."
      ]
    },
    {
      "cell_type": "code",
      "execution_count": 10,
      "metadata": {
        "id": "e9CQCZjk8DC2",
        "colab": {
          "base_uri": "https://localhost:8080/"
        },
        "outputId": "216bf700-0a80-4860-971d-737ce4911938"
      },
      "outputs": [
        {
          "output_type": "stream",
          "name": "stdout",
          "text": [
            "          weathersit      cnt\n",
            "0  Clear, Few clouds  2042163\n",
            "1  Heavy Rain, Storm      223\n",
            "2   Light Snow, Rain   149213\n",
            "3      Mist + Cloudy   722712\n"
          ]
        }
      ],
      "source": [
        "# Mengganti nilai numerik dengan string deskriptif untuk kolom 'weathersit'\n",
        "weather_mapping = {\n",
        "    1: 'Clear, Few clouds',\n",
        "    2: 'Mist + Cloudy',\n",
        "    3: 'Light Snow, Rain',\n",
        "    4: 'Heavy Rain, Storm'\n",
        "}\n",
        "\n",
        "# Menggunakan .replace() untuk mengganti nilai pada kolom 'weathersit' sesuai dengan mapping di atas\n",
        "df['weathersit'] = df['weathersit'].replace(weather_mapping)\n",
        "\n",
        "# Mengelompokkan data berdasarkan 'weathersit' dan menghitung total pendaftar (cnt) untuk setiap kategori cuaca\n",
        "total_cnt_by_weather = df.groupby('weathersit')['cnt'].sum().reset_index()\n",
        "\n",
        "# Menampilkan hasil total pendaftar berdasarkan kategori cuaca\n",
        "print(total_cnt_by_weather)"
      ]
    },
    {
      "cell_type": "code",
      "source": [
        "# Menghitung rata-rata jumlah rental sepeda (cnt) untuk hari kerja (workdays)\n",
        "average_workday = df[df['workingday'] == 1].groupby('hr')['cnt'].mean().reset_index()\n",
        "\n",
        "# Menampilkan hasil rata-rata jumlah rental sepeda untuk hari kerja\n",
        "print(average_workday)\n",
        "\n",
        "# Menghitung rata-rata rental sepeda (cnt) untuk akhir pekan (weekends)\n",
        "average_weekend = df[df['workingday'] == 0].groupby('hr')['cnt'].mean().reset_index()\n",
        "\n",
        "# Menampilkan hasil rata-rata jumlah rental sepeda untuk akhir pekan\n",
        "print(average_weekend)"
      ],
      "metadata": {
        "colab": {
          "base_uri": "https://localhost:8080/"
        },
        "id": "SHfpSxphvfXK",
        "outputId": "f89023a0-4499-45c0-a10b-22b28cbb5054"
      },
      "execution_count": 11,
      "outputs": [
        {
          "output_type": "stream",
          "name": "stdout",
          "text": [
            "    hr         cnt\n",
            "0    0   36.786290\n",
            "1    1   16.552632\n",
            "2    2    8.683778\n",
            "3    3    4.942553\n",
            "4    4    5.429787\n",
            "5    5   24.913131\n",
            "6    6  102.500000\n",
            "7    7  290.612903\n",
            "8    8  396.501355\n",
            "9    9  241.518145\n",
            "10  10  135.366935\n",
            "11  11  158.229839\n",
            "12  12  200.820926\n",
            "13  13  198.429719\n",
            "14  14  182.631791\n",
            "15  15  201.331325\n",
            "16  16  293.122244\n",
            "17  17  411.847458\n",
            "18  18  393.463612\n",
            "19  19  339.070248\n",
            "20  20  249.718876\n",
            "21  21  186.287149\n",
            "22  22  138.389558\n",
            "23  23   88.708835\n",
            "    hr         cnt\n",
            "0    0   90.800000\n",
            "1    1   69.508696\n",
            "2    2   53.171053\n",
            "3    3   25.775330\n",
            "4    4    8.264317\n",
            "5    5    8.689189\n",
            "6    6   18.742358\n",
            "7    7   43.406926\n",
            "8    8  105.653680\n",
            "9    9  171.623377\n",
            "10  10  255.909091\n",
            "11  11  312.349345\n",
            "12  12  340.387850\n",
            "13  13  338.033654\n",
            "14  14  343.907834\n",
            "15  15  339.032110\n",
            "16  16  334.525114\n",
            "17  17  310.170404\n",
            "18  18  277.728070\n",
            "19  19  231.673913\n",
            "20  20  174.739130\n",
            "21  21  142.060870\n",
            "22  22  116.060870\n",
            "23  23   85.930435\n"
          ]
        }
      ]
    },
    {
      "cell_type": "markdown",
      "source": [
        "**Insight:**\n",
        "- Penggunaan sepeda paling banyak terjadi saat cuaca cerah atau berawan, sedangkan paling sedikit saat terjadi hujan lebat atau badai. Cuaca yang baik sangat mempengaruhi penggunaan sepeda.\n",
        "- Pada hari kerja, penggunaan sepeda paling ramai terjadi pada jam sibuk pagi (08.00) dan sore (17.00-18.00), mengindikasikan bahwa sepeda digunakan sebagai transportasi harian.\n",
        "- Pada akhir pekan, puncak penggunaan terjadi pada siang hari (12.00-16.00), yang kemungkinan besar digunakan untuk rekreasi."
      ],
      "metadata": {
        "id": "th_Lzl2Fkj9O"
      }
    },
    {
      "cell_type": "markdown",
      "metadata": {
        "id": "zsyZjqak8DC2"
      },
      "source": [
        "## Visualization & Explanatory Analysis"
      ]
    },
    {
      "cell_type": "markdown",
      "metadata": {
        "id": "HZxOiQ6n8DC2"
      },
      "source": [
        "### Pertanyaan 1:"
      ]
    },
    {
      "cell_type": "code",
      "execution_count": 12,
      "metadata": {
        "id": "1swJUdAD8DC2",
        "colab": {
          "base_uri": "https://localhost:8080/",
          "height": 607
        },
        "outputId": "2053ed8d-bbcf-495b-c68c-4786f43f688a"
      },
      "outputs": [
        {
          "output_type": "display_data",
          "data": {
            "text/plain": [
              "<Figure size 1000x600 with 1 Axes>"
            ],
            "image/png": "[encoded data removed]"
          },
          "metadata": {}
        }
      ],
      "source": [
        "# Membuat grafik batang untuk menggambarkan hasil\n",
        "plt.figure(figsize=(10, 6))\n",
        "plt.bar(total_cnt_by_weather['weathersit'], total_cnt_by_weather['cnt'], color='skyblue')\n",
        "plt.title('Jumlah Total Pendaftar Berdasarkan Kategori Cuaca')\n",
        "plt.xlabel('Kategori Cuaca')\n",
        "plt.ylabel('Jumlah Total Pendaftar (cnt)')\n",
        "plt.xticks(rotation=45)  # Memutar label pada sumbu x untuk keterbacaan\n",
        "plt.grid(axis='y')\n",
        "plt.tight_layout()\n",
        "plt.show()"
      ]
    },
    {
      "cell_type": "markdown",
      "metadata": {
        "id": "DgHI7CiU8DC2"
      },
      "source": [
        "### Pertanyaan 2:"
      ]
    },
    {
      "cell_type": "code",
      "execution_count": 13,
      "metadata": {
        "id": "Go0lCsvO8DC2",
        "colab": {
          "base_uri": "https://localhost:8080/",
          "height": 607
        },
        "outputId": "3d5f897f-4b0f-4d1f-e052-4e390b162c81"
      },
      "outputs": [
        {
          "output_type": "display_data",
          "data": {
            "text/plain": [
              "<Figure size 1200x600 with 1 Axes>"
            ],
            "image/png": "[encoded data removed]"
          },
          "metadata": {}
        }
      ],
      "source": [
        "# Membuat grafik batang untuk membandingkan rata-rata rental\n",
        "plt.figure(figsize=(12, 6))\n",
        "plt.bar(average_workday['hr'] - 0.2, average_workday['cnt'], width=0.4, label='Workdays', color='skyblue')\n",
        "plt.bar(average_weekend['hr'] + 0.2, average_weekend['cnt'], width=0.4, label='Weekends', color='salmon')\n",
        "\n",
        "plt.title('Rata-rata Jumlah Rental Berdasarkan Jam')\n",
        "plt.xlabel('Jam')\n",
        "plt.ylabel('Rata-rata Jumlah Rental (cnt)')\n",
        "plt.xticks(range(0, 24))  # Menampilkan jam dari 0 hingga 23\n",
        "plt.legend()\n",
        "plt.grid(axis='y')\n",
        "plt.tight_layout()\n",
        "plt.show()"
      ]
    },
    {
      "cell_type": "markdown",
      "source": [
        "**Insight:**\n",
        "- Visualisasi menunjukkan bahwa cuaca cerah dan berawan adalah kondisi di mana pengguna lebih sering menyewa sepeda, sementara hujan lebat dan badai menurunkan jumlah pengguna secara signifikan.\n",
        "- Pada hari kerja, penggunaan sepeda mencapai puncak di pagi dan sore hari, sesuai dengan jam sibuk. Pada akhir pekan, penggunaan meningkat di siang hari, yang menandakan bahwa orang lebih memilih bersepeda untuk aktivitas rekreasi."
      ],
      "metadata": {
        "id": "_0-36BDLklRg"
      }
    },
    {
      "cell_type": "markdown",
      "metadata": {
        "id": "_WeHlCeX8DC2"
      },
      "source": [
        "## Conclusion"
      ]
    },
    {
      "cell_type": "markdown",
      "metadata": {
        "id": "ZTcyR48Y8DC2"
      },
      "source": [
        "- Pertanyaan 1 : Cuaca cerah mendorong peningkatan jumlah rental sepeda, yang dapat dimanfaatkan oleh layanan untuk memberikan promosi lebih pada hari-hari cerah.\n",
        "- Pertanyaan 2 : Pada hari kerja, penggunaan sepeda tinggi di jam sibuk, sehingga penambahan fasilitas di area strategis dapat membantu mengatasi lonjakan pengguna. Akhir pekan lebih ramai di siang hari, sehingga acara rekreasi atau promosi khusus bisa mendorong lebih banyak penggunaan sepeda pada waktu tersebut."
      ]
    }
  ],
  "metadata": {
    "kernelspec": {
      "display_name": "Python 3",
      "language": "python",
      "name": "python3"
    },
    "language_info": {
      "name": "python",
      "version": "3.8.0 (tags/v3.8.0:fa919fd, Oct 14 2019, 19:21:23) [MSC v.1916 32 bit (Intel)]"
    },
    "orig_nbformat": 4,
    "vscode": {
      "interpreter": {
        "hash": "972b3bf27e332e87b5379f2791f6ef9dfc79c71018c370b0d7423235e20fe4d7"
      }
    },
    "colab": {
      "provenance": []
    }
  },
  "nbformat": 4,
  "nbformat_minor": 0
}